{
 "cells": [
  {
   "cell_type": "markdown",
   "metadata": {},
   "source": [
    "# Purpose\n",
    "\n",
    "### Author: Julius Remigio\n",
    "\n",
    "Split reviews.csv by category, which can be found in the metadata file.\n",
    "\n",
    "use pattern from here:\n",
    "https://github.com/DSE-capstone-sharknado/models-legacy\n",
    "reviews.csv into men, women, phone etc like that cpp file does"
   ]
  },
  {
   "cell_type": "code",
   "execution_count": 1,
   "metadata": {
    "collapsed": true
   },
   "outputs": [],
   "source": [
    "import pandas as pd\n",
    "import gzip\n",
    "import shutil"
   ]
  },
  {
   "cell_type": "code",
   "execution_count": 2,
   "metadata": {
    "collapsed": true
   },
   "outputs": [],
   "source": [
    "# categories we are interested in \n",
    "categories = [\"Women\", \"Men\", \"Girls\", \"Boys\", \"Baby\"]"
   ]
  },
  {
   "cell_type": "code",
   "execution_count": 3,
   "metadata": {
    "collapsed": true
   },
   "outputs": [],
   "source": [
    "# Reading the metadat file\n",
    "def parse(path):\n",
    "    g = gzip.open(path, 'rb')\n",
    "    for l in g:\n",
    "        yield eval(l)\n",
    "\n",
    "def getDF(path):\n",
    "    i = 0\n",
    "    df = {}\n",
    "    for d in parse(path):\n",
    "        df[i] = d\n",
    "        i += 1\n",
    "    return pd.DataFrame.from_dict(df, orient='index')"
   ]
  },
  {
   "cell_type": "markdown",
   "metadata": {},
   "source": [
    "### Review Columns\n",
    "    reviewerID - ID of the reviewer, e.g. A2SUAM1J3GNN3B\n",
    "    asin - ID of the product, e.g. 0000013714\n",
    "    unixReviewTime - time of the review (unix time)\n",
    "   \n"
   ]
  },
  {
   "cell_type": "code",
   "execution_count": 4,
   "metadata": {},
   "outputs": [
    {
     "data": {
      "text/html": [
       "<div>\n",
       "<table border=\"1\" class=\"dataframe\">\n",
       "  <thead>\n",
       "    <tr style=\"text-align: right;\">\n",
       "      <th></th>\n",
       "      <th>reviewerID</th>\n",
       "      <th>asin</th>\n",
       "      <th>unixReviewTime</th>\n",
       "    </tr>\n",
       "  </thead>\n",
       "  <tbody>\n",
       "    <tr>\n",
       "      <th>0</th>\n",
       "      <td>A1KLRMWW2FWPL4</td>\n",
       "      <td>0000031887</td>\n",
       "      <td>1297468800</td>\n",
       "    </tr>\n",
       "    <tr>\n",
       "      <th>1</th>\n",
       "      <td>A2G5TCU2WDFZ65</td>\n",
       "      <td>0000031887</td>\n",
       "      <td>1358553600</td>\n",
       "    </tr>\n",
       "    <tr>\n",
       "      <th>2</th>\n",
       "      <td>A1RLQXYNCMWRWN</td>\n",
       "      <td>0000031887</td>\n",
       "      <td>1357257600</td>\n",
       "    </tr>\n",
       "    <tr>\n",
       "      <th>3</th>\n",
       "      <td>A8U3FAMSJVHS5</td>\n",
       "      <td>0000031887</td>\n",
       "      <td>1398556800</td>\n",
       "    </tr>\n",
       "    <tr>\n",
       "      <th>4</th>\n",
       "      <td>A3GEOILWLK86XM</td>\n",
       "      <td>0000031887</td>\n",
       "      <td>1394841600</td>\n",
       "    </tr>\n",
       "  </tbody>\n",
       "</table>\n",
       "</div>"
      ],
      "text/plain": [
       "       reviewerID        asin  unixReviewTime\n",
       "0  A1KLRMWW2FWPL4  0000031887      1297468800\n",
       "1  A2G5TCU2WDFZ65  0000031887      1358553600\n",
       "2  A1RLQXYNCMWRWN  0000031887      1357257600\n",
       "3   A8U3FAMSJVHS5  0000031887      1398556800\n",
       "4  A3GEOILWLK86XM  0000031887      1394841600"
      ]
     },
     "execution_count": 4,
     "metadata": {},
     "output_type": "execute_result"
    }
   ],
   "source": [
    "# create dataframe from reviews.csv\n",
    "reviews = pd.read_csv('reviews.csv', names=['reviewerID', 'asin', 'unixReviewTime'])\n",
    "reviews.head()"
   ]
  },
  {
   "cell_type": "code",
   "execution_count": 5,
   "metadata": {
    "collapsed": true
   },
   "outputs": [],
   "source": [
    "# read the data file, it takes a few minutes\n",
    "df_meta = getDF('meta_Clothing_Shoes_and_Jewelry.json.gz')"
   ]
  },
  {
   "cell_type": "code",
   "execution_count": 6,
   "metadata": {},
   "outputs": [
    {
     "name": "stdout",
     "output_type": "stream",
     "text": [
      "Index([u'asin', u'categories', u'title', u'price', u'salesRank', u'imUrl',\n",
      "       u'brand', u'related', u'description'],\n",
      "      dtype='object')\n",
      "(1503384, 9)\n"
     ]
    }
   ],
   "source": [
    "print(df_meta.columns)\n",
    "print(df_meta.shape)"
   ]
  },
  {
   "cell_type": "code",
   "execution_count": 34,
   "metadata": {},
   "outputs": [
    {
     "name": "stdout",
     "output_type": "stream",
     "text": [
      "count                      98132\n",
      "unique                      8501\n",
      "top       Rubie&#39;s Costume Co\n",
      "freq                        4079\n",
      "Name: brand, dtype: object\n",
      "Percent NaN: 0.93472592498\n"
     ]
    }
   ],
   "source": [
    "print(df_meta.brand.describe())\n",
    "print 'Percent NaN:', 1- df_meta.brand.describe()['count']/float(df_meta.shape[0])\n"
   ]
  },
  {
   "cell_type": "code",
   "execution_count": 8,
   "metadata": {},
   "outputs": [
    {
     "data": {
      "text/plain": [
       "[['Clothing, Shoes & Jewelry', 'Girls'],\n",
       " ['Clothing, Shoes & Jewelry',\n",
       "  'Novelty, Costumes & More',\n",
       "  'Costumes & Accessories',\n",
       "  'More Accessories',\n",
       "  'Kids & Baby']]"
      ]
     },
     "execution_count": 8,
     "metadata": {},
     "output_type": "execute_result"
    }
   ],
   "source": [
    "# we only care about brand and categories columns\n",
    "df_meta = df_meta[[u'asin', u'categories',u'brand']]\n",
    "\n",
    "# categories is a list of lists \n",
    "df_meta[:1].categories[0]"
   ]
  },
  {
   "cell_type": "code",
   "execution_count": 9,
   "metadata": {
    "scrolled": true
   },
   "outputs": [
    {
     "data": {
      "text/html": [
       "<div>\n",
       "<table border=\"1\" class=\"dataframe\">\n",
       "  <thead>\n",
       "    <tr style=\"text-align: right;\">\n",
       "      <th></th>\n",
       "      <th>asin</th>\n",
       "      <th>categories</th>\n",
       "      <th>brand</th>\n",
       "    </tr>\n",
       "  </thead>\n",
       "  <tbody>\n",
       "    <tr>\n",
       "      <th>0</th>\n",
       "      <td>0000037214</td>\n",
       "      <td>[[Clothing, Shoes &amp; Jewelry, Girls], [Clothing...</td>\n",
       "      <td>Big Dreams</td>\n",
       "    </tr>\n",
       "    <tr>\n",
       "      <th>1</th>\n",
       "      <td>0000031887</td>\n",
       "      <td>[[Clothing, Shoes &amp; Jewelry, Girls, Clothing, ...</td>\n",
       "      <td>Boutique Cutie</td>\n",
       "    </tr>\n",
       "    <tr>\n",
       "      <th>2</th>\n",
       "      <td>0123456479</td>\n",
       "      <td>[[Clothing, Shoes &amp; Jewelry, Novelty, Costumes...</td>\n",
       "      <td>NaN</td>\n",
       "    </tr>\n",
       "    <tr>\n",
       "      <th>3</th>\n",
       "      <td>0456844570</td>\n",
       "      <td>[[Clothing, Shoes &amp; Jewelry, Women, Accessorie...</td>\n",
       "      <td>NaN</td>\n",
       "    </tr>\n",
       "    <tr>\n",
       "      <th>4</th>\n",
       "      <td>0456808574</td>\n",
       "      <td>[[Clothing, Shoes &amp; Jewelry, Women, Accessorie...</td>\n",
       "      <td>NaN</td>\n",
       "    </tr>\n",
       "  </tbody>\n",
       "</table>\n",
       "</div>"
      ],
      "text/plain": [
       "         asin                                         categories  \\\n",
       "0  0000037214  [[Clothing, Shoes & Jewelry, Girls], [Clothing...   \n",
       "1  0000031887  [[Clothing, Shoes & Jewelry, Girls, Clothing, ...   \n",
       "2  0123456479  [[Clothing, Shoes & Jewelry, Novelty, Costumes...   \n",
       "3  0456844570  [[Clothing, Shoes & Jewelry, Women, Accessorie...   \n",
       "4  0456808574  [[Clothing, Shoes & Jewelry, Women, Accessorie...   \n",
       "\n",
       "            brand  \n",
       "0      Big Dreams  \n",
       "1  Boutique Cutie  \n",
       "2             NaN  \n",
       "3             NaN  \n",
       "4             NaN  "
      ]
     },
     "execution_count": 9,
     "metadata": {},
     "output_type": "execute_result"
    }
   ],
   "source": [
    "df_meta.head()"
   ]
  },
  {
   "cell_type": "code",
   "execution_count": 10,
   "metadata": {
    "scrolled": true
   },
   "outputs": [
    {
     "data": {
      "text/plain": [
       "['B',\n",
       " 'Baby',\n",
       " 'Baby & Child Care',\n",
       " 'Baby & Toddler Toys',\n",
       " 'Bath',\n",
       " 'Bath & Body',\n",
       " 'Bathing & Skin Care',\n",
       " 'Beading & Jewelry-Making',\n",
       " 'Bedding',\n",
       " 'Beverages',\n",
       " 'Blues',\n",
       " 'Boating & Water Sports',\n",
       " 'Boot Shop',\n",
       " 'Boutique Designer Jewelry',\n",
       " \"Boy's Athletic Watches\",\n",
       " 'Boys',\n",
       " 'Breitling Watches',\n",
       " 'Broadway & Vocalists',\n",
       " 'Building Toys',\n",
       " 'G',\n",
       " 'GPS & Navigation',\n",
       " 'Game Time',\n",
       " 'Games',\n",
       " 'Gardening & Lawn Care',\n",
       " 'Gear',\n",
       " 'Gemstones',\n",
       " 'Geography',\n",
       " 'Gifts',\n",
       " 'Girls',\n",
       " 'Glycine',\n",
       " 'Golf',\n",
       " 'Grown-Up Toys',\n",
       " 'M',\n",
       " 'Made in USA',\n",
       " 'Makeup',\n",
       " 'Material Handling Products',\n",
       " 'Medical Supplies & Equipment',\n",
       " 'Men',\n",
       " \"Men's Athletic Watches\",\n",
       " 'Michael Kors Watches',\n",
       " 'Michele Watches',\n",
       " 'Motorcycle & ATV Casual Footwear',\n",
       " 'Motorcycle & Powersports',\n",
       " 'Movado',\n",
       " 'Movies',\n",
       " 'W',\n",
       " 'Wedding Party Gifts',\n",
       " 'Winter Promo',\n",
       " 'Wolf Designs',\n",
       " 'Women',\n",
       " \"Women's Athletic Watches\",\n",
       " \"Women's Luxury Brands\"]"
      ]
     },
     "execution_count": 10,
     "metadata": {},
     "output_type": "execute_result"
    }
   ],
   "source": [
    "# get distinct categories - we only care about the second level of the first list\n",
    "sorted([c for c in df_meta.categories.apply(lambda x: x[0][1]).drop_duplicates().tolist() if c[0] in 'WMGB'])"
   ]
  },
  {
   "cell_type": "code",
   "execution_count": 11,
   "metadata": {},
   "outputs": [
    {
     "data": {
      "text/html": [
       "<div>\n",
       "<table border=\"1\" class=\"dataframe\">\n",
       "  <thead>\n",
       "    <tr style=\"text-align: right;\">\n",
       "      <th></th>\n",
       "      <th>reviewerID</th>\n",
       "      <th>asin</th>\n",
       "      <th>unixReviewTime</th>\n",
       "      <th>categories</th>\n",
       "      <th>brand</th>\n",
       "    </tr>\n",
       "  </thead>\n",
       "  <tbody>\n",
       "    <tr>\n",
       "      <th>0</th>\n",
       "      <td>A1KLRMWW2FWPL4</td>\n",
       "      <td>0000031887</td>\n",
       "      <td>1297468800</td>\n",
       "      <td>[[Clothing, Shoes &amp; Jewelry, Girls, Clothing, ...</td>\n",
       "      <td>Boutique Cutie</td>\n",
       "    </tr>\n",
       "    <tr>\n",
       "      <th>1</th>\n",
       "      <td>A2G5TCU2WDFZ65</td>\n",
       "      <td>0000031887</td>\n",
       "      <td>1358553600</td>\n",
       "      <td>[[Clothing, Shoes &amp; Jewelry, Girls, Clothing, ...</td>\n",
       "      <td>Boutique Cutie</td>\n",
       "    </tr>\n",
       "    <tr>\n",
       "      <th>2</th>\n",
       "      <td>A1RLQXYNCMWRWN</td>\n",
       "      <td>0000031887</td>\n",
       "      <td>1357257600</td>\n",
       "      <td>[[Clothing, Shoes &amp; Jewelry, Girls, Clothing, ...</td>\n",
       "      <td>Boutique Cutie</td>\n",
       "    </tr>\n",
       "    <tr>\n",
       "      <th>3</th>\n",
       "      <td>A8U3FAMSJVHS5</td>\n",
       "      <td>0000031887</td>\n",
       "      <td>1398556800</td>\n",
       "      <td>[[Clothing, Shoes &amp; Jewelry, Girls, Clothing, ...</td>\n",
       "      <td>Boutique Cutie</td>\n",
       "    </tr>\n",
       "    <tr>\n",
       "      <th>4</th>\n",
       "      <td>A3GEOILWLK86XM</td>\n",
       "      <td>0000031887</td>\n",
       "      <td>1394841600</td>\n",
       "      <td>[[Clothing, Shoes &amp; Jewelry, Girls, Clothing, ...</td>\n",
       "      <td>Boutique Cutie</td>\n",
       "    </tr>\n",
       "  </tbody>\n",
       "</table>\n",
       "</div>"
      ],
      "text/plain": [
       "       reviewerID        asin  unixReviewTime  \\\n",
       "0  A1KLRMWW2FWPL4  0000031887      1297468800   \n",
       "1  A2G5TCU2WDFZ65  0000031887      1358553600   \n",
       "2  A1RLQXYNCMWRWN  0000031887      1357257600   \n",
       "3   A8U3FAMSJVHS5  0000031887      1398556800   \n",
       "4  A3GEOILWLK86XM  0000031887      1394841600   \n",
       "\n",
       "                                          categories           brand  \n",
       "0  [[Clothing, Shoes & Jewelry, Girls, Clothing, ...  Boutique Cutie  \n",
       "1  [[Clothing, Shoes & Jewelry, Girls, Clothing, ...  Boutique Cutie  \n",
       "2  [[Clothing, Shoes & Jewelry, Girls, Clothing, ...  Boutique Cutie  \n",
       "3  [[Clothing, Shoes & Jewelry, Girls, Clothing, ...  Boutique Cutie  \n",
       "4  [[Clothing, Shoes & Jewelry, Girls, Clothing, ...  Boutique Cutie  "
      ]
     },
     "execution_count": 11,
     "metadata": {},
     "output_type": "execute_result"
    }
   ],
   "source": [
    "# join metadata and reviews so we can split the reviews by category\n",
    "combined = pd.merge(reviews, df_meta, left_on='asin', right_on='asin')\n",
    "combined.head()"
   ]
  },
  {
   "cell_type": "code",
   "execution_count": 17,
   "metadata": {
    "collapsed": true
   },
   "outputs": [],
   "source": [
    "# create a file for each category of reviews.\n",
    "for c in categories:\n",
    "    csv = 'review_{0}.csv'.format(c)\n",
    "    csvc = 'review_{0}c.csv'.format(c)\n",
    "    \n",
    "    # create files without the categories column\n",
    "    combined[combined.categories.apply(lambda x: x[0][1])==c][[c for c in combined.columns if c != 'brand']].to_csv(csv + '.gz', compression='gzip',index=False)\n",
    "    \n",
    "    # create files with the categories column\n",
    "    combined[combined.categories.apply(lambda x: x[0][1])==c].to_csv(csvc + '.gz', compression='gzip',index=False)"
   ]
  },
  {
   "cell_type": "code",
   "execution_count": null,
   "metadata": {
    "collapsed": true
   },
   "outputs": [],
   "source": []
  }
 ],
 "metadata": {
  "kernelspec": {
   "display_name": "Python 2",
   "language": "python",
   "name": "python2"
  },
  "language_info": {
   "codemirror_mode": {
    "name": "ipython",
    "version": 2
   },
   "file_extension": ".py",
   "mimetype": "text/x-python",
   "name": "python",
   "nbconvert_exporter": "python",
   "pygments_lexer": "ipython2",
   "version": "2.7.11"
  }
 },
 "nbformat": 4,
 "nbformat_minor": 2
}
