{
 "cells": [
  {
   "cell_type": "markdown",
   "metadata": {
    "collapsed": true
   },
   "source": [
    "## Handle NaNs in the brand field\n",
    "\n",
    "Extracted the first two words from the product title and updated the missing values.\n",
    "\n",
    "Note: In the group_similar_products.ipynb, the new and updated brand field has been cleaned up by replacing punctuation with space and converting into lower case"
   ]
  },
  {
   "cell_type": "code",
   "execution_count": 1,
   "metadata": {
    "collapsed": true
   },
   "outputs": [],
   "source": [
    "import pandas as pd\n",
    "import gzip\n",
    "\n",
    "# Reading the review\n",
    "def parse(path):\n",
    "    g = gzip.open(path, 'rb')\n",
    "    for l in g:\n",
    "        yield eval(l)\n",
    "\n",
    "def getDF(path):\n",
    "    i = 0\n",
    "    df = {}\n",
    "    for d in parse(path):\n",
    "        df[i] = d\n",
    "        i += 1\n",
    "    return pd.DataFrame.from_dict(df, orient='index')"
   ]
  },
  {
   "cell_type": "code",
   "execution_count": 2,
   "metadata": {
    "collapsed": true
   },
   "outputs": [],
   "source": [
    "# Reading the image features\n",
    "import struct\n",
    "\n",
    "def readImageFeatures(path):\n",
    "    f = open(path, 'rb')\n",
    "    while True:\n",
    "        asin = f.read(10)\n",
    "        if asin == '': break\n",
    "        feature = []\n",
    "        for i in range(4096):\n",
    "            feature.append(struct.unpack('f', f.read(4)))\n",
    "        yield asin, feature"
   ]
  },
  {
   "cell_type": "code",
   "execution_count": 3,
   "metadata": {
    "collapsed": false
   },
   "outputs": [
    {
     "name": "stdout",
     "output_type": "stream",
     "text": [
      "/Users/Deepthi/Documents/DSE/Capstone/Data/From Julius\n"
     ]
    }
   ],
   "source": [
    "%cd /Users/Deepthi/Documents/DSE/Capstone/Data/From Julius"
   ]
  },
  {
   "cell_type": "code",
   "execution_count": 4,
   "metadata": {
    "collapsed": false
   },
   "outputs": [
    {
     "name": "stdout",
     "output_type": "stream",
     "text": [
      "image_features_Clothing_Shoes_and_Jewelry.b\r\n",
      "meta_Clothing_Shoes_and_Jewelry.json.gz\r\n",
      "ratings_Clothing_Shoes_and_Jewelry.csv\r\n",
      "review_Women.csv\r\n",
      "review_Women.csv.gz\r\n",
      "review_women_brand_updated.csv\r\n",
      "review_women_brnd_fv_prce_updated.csv\r\n",
      "review_women_brnd_fv_updated.csv\r\n",
      "reviews_Clothing_Shoes_and_Jewelry.json.gz\r\n",
      "reviews_Clothing_Shoes_and_Jewelry_5.json.gz\r\n",
      "tfidf_score.csv\r\n"
     ]
    }
   ],
   "source": [
    "!ls"
   ]
  },
  {
   "cell_type": "code",
   "execution_count": 5,
   "metadata": {
    "collapsed": true
   },
   "outputs": [],
   "source": [
    "df_meta = getDF('meta_Clothing_Shoes_and_Jewelry.json.gz')"
   ]
  },
  {
   "cell_type": "code",
   "execution_count": 6,
   "metadata": {
    "collapsed": true
   },
   "outputs": [],
   "source": [
    "df_review = getDF('reviews_Clothing_Shoes_and_Jewelry_5.json.gz')"
   ]
  },
  {
   "cell_type": "code",
   "execution_count": 7,
   "metadata": {
    "collapsed": false
   },
   "outputs": [],
   "source": [
    "df_meta_brand = df_meta[['asin', 'title','brand']].drop_duplicates()"
   ]
  },
  {
   "cell_type": "code",
   "execution_count": 8,
   "metadata": {
    "collapsed": false
   },
   "outputs": [],
   "source": [
    "## Get the first two words from the title field\n",
    "\n",
    "df_meta_brand['brand_0'] = df_meta_brand.title.str.split().str.get(0)\n",
    "df_meta_brand['brand_1'] = df_meta_brand.title.str.split().str.get(1)"
   ]
  },
  {
   "cell_type": "code",
   "execution_count": 9,
   "metadata": {
    "collapsed": false
   },
   "outputs": [],
   "source": [
    "## Combine the two words\n",
    "\n",
    "df_meta_brand['brand_combined'] = df_meta_brand['brand_0']+' '+df_meta_brand['brand_1']"
   ]
  },
  {
   "cell_type": "code",
   "execution_count": 10,
   "metadata": {
    "collapsed": false
   },
   "outputs": [],
   "source": [
    "df_meta_brand['brand_new']=df_meta_brand.brand.fillna(df_meta_brand.brand_combined)"
   ]
  },
  {
   "cell_type": "code",
   "execution_count": 11,
   "metadata": {
    "collapsed": false
   },
   "outputs": [
    {
     "data": {
      "text/html": [
       "<div>\n",
       "<table border=\"1\" class=\"dataframe\">\n",
       "  <thead>\n",
       "    <tr style=\"text-align: right;\">\n",
       "      <th></th>\n",
       "      <th>brand</th>\n",
       "      <th>brand_new</th>\n",
       "    </tr>\n",
       "  </thead>\n",
       "  <tbody>\n",
       "    <tr>\n",
       "      <th>0</th>\n",
       "      <td>Big Dreams</td>\n",
       "      <td>Big Dreams</td>\n",
       "    </tr>\n",
       "    <tr>\n",
       "      <th>1</th>\n",
       "      <td>Boutique Cutie</td>\n",
       "      <td>Boutique Cutie</td>\n",
       "    </tr>\n",
       "    <tr>\n",
       "      <th>2</th>\n",
       "      <td>NaN</td>\n",
       "      <td>SHINING IMAGE</td>\n",
       "    </tr>\n",
       "    <tr>\n",
       "      <th>3</th>\n",
       "      <td>NaN</td>\n",
       "      <td>RiZ Women's</td>\n",
       "    </tr>\n",
       "    <tr>\n",
       "      <th>4</th>\n",
       "      <td>NaN</td>\n",
       "      <td>Lantin White</td>\n",
       "    </tr>\n",
       "    <tr>\n",
       "      <th>5</th>\n",
       "      <td>NaN</td>\n",
       "      <td>NVC Unisex</td>\n",
       "    </tr>\n",
       "    <tr>\n",
       "      <th>6</th>\n",
       "      <td>NaN</td>\n",
       "      <td>Kismeth Eyewear</td>\n",
       "    </tr>\n",
       "    <tr>\n",
       "      <th>7</th>\n",
       "      <td>NaN</td>\n",
       "      <td>Max-MPH Black</td>\n",
       "    </tr>\n",
       "    <tr>\n",
       "      <th>8</th>\n",
       "      <td>NaN</td>\n",
       "      <td>FX1 Small</td>\n",
       "    </tr>\n",
       "    <tr>\n",
       "      <th>9</th>\n",
       "      <td>NaN</td>\n",
       "      <td>Riz Small</td>\n",
       "    </tr>\n",
       "    <tr>\n",
       "      <th>10</th>\n",
       "      <td>NaN</td>\n",
       "      <td>Red Crocodile</td>\n",
       "    </tr>\n",
       "    <tr>\n",
       "      <th>11</th>\n",
       "      <td>NaN</td>\n",
       "      <td>Vera Bradley</td>\n",
       "    </tr>\n",
       "    <tr>\n",
       "      <th>12</th>\n",
       "      <td>NECA</td>\n",
       "      <td>NECA</td>\n",
       "    </tr>\n",
       "    <tr>\n",
       "      <th>13</th>\n",
       "      <td>NaN</td>\n",
       "      <td>Bear Ear</td>\n",
       "    </tr>\n",
       "    <tr>\n",
       "      <th>14</th>\n",
       "      <td>Instructional Fair</td>\n",
       "      <td>Instructional Fair</td>\n",
       "    </tr>\n",
       "    <tr>\n",
       "      <th>15</th>\n",
       "      <td>NaN</td>\n",
       "      <td>Spanish Third-year</td>\n",
       "    </tr>\n",
       "    <tr>\n",
       "      <th>16</th>\n",
       "      <td>NaN</td>\n",
       "      <td>Viva Espanol</td>\n",
       "    </tr>\n",
       "    <tr>\n",
       "      <th>17</th>\n",
       "      <td>NaN</td>\n",
       "      <td>Eagle /</td>\n",
       "    </tr>\n",
       "    <tr>\n",
       "      <th>18</th>\n",
       "      <td>NaN</td>\n",
       "      <td>Death Note</td>\n",
       "    </tr>\n",
       "    <tr>\n",
       "      <th>19</th>\n",
       "      <td>NaN</td>\n",
       "      <td>New Lava</td>\n",
       "    </tr>\n",
       "    <tr>\n",
       "      <th>20</th>\n",
       "      <td>NaN</td>\n",
       "      <td>Men Automatic</td>\n",
       "    </tr>\n",
       "    <tr>\n",
       "      <th>21</th>\n",
       "      <td>NaN</td>\n",
       "      <td>Pink Bikini</td>\n",
       "    </tr>\n",
       "    <tr>\n",
       "      <th>22</th>\n",
       "      <td>NaN</td>\n",
       "      <td>Bikini Swimwear</td>\n",
       "    </tr>\n",
       "    <tr>\n",
       "      <th>23</th>\n",
       "      <td>NaN</td>\n",
       "      <td>Glow in</td>\n",
       "    </tr>\n",
       "    <tr>\n",
       "      <th>24</th>\n",
       "      <td>NaN</td>\n",
       "      <td>Watch Black</td>\n",
       "    </tr>\n",
       "  </tbody>\n",
       "</table>\n",
       "</div>"
      ],
      "text/plain": [
       "                 brand           brand_new\n",
       "0           Big Dreams          Big Dreams\n",
       "1       Boutique Cutie      Boutique Cutie\n",
       "2                  NaN       SHINING IMAGE\n",
       "3                  NaN         RiZ Women's\n",
       "4                  NaN        Lantin White\n",
       "5                  NaN          NVC Unisex\n",
       "6                  NaN     Kismeth Eyewear\n",
       "7                  NaN       Max-MPH Black\n",
       "8                  NaN           FX1 Small\n",
       "9                  NaN           Riz Small\n",
       "10                 NaN       Red Crocodile\n",
       "11                 NaN        Vera Bradley\n",
       "12                NECA                NECA\n",
       "13                 NaN            Bear Ear\n",
       "14  Instructional Fair  Instructional Fair\n",
       "15                 NaN  Spanish Third-year\n",
       "16                 NaN        Viva Espanol\n",
       "17                 NaN             Eagle /\n",
       "18                 NaN          Death Note\n",
       "19                 NaN            New Lava\n",
       "20                 NaN       Men Automatic\n",
       "21                 NaN         Pink Bikini\n",
       "22                 NaN     Bikini Swimwear\n",
       "23                 NaN             Glow in\n",
       "24                 NaN         Watch Black"
      ]
     },
     "execution_count": 11,
     "metadata": {},
     "output_type": "execute_result"
    }
   ],
   "source": [
    "df_meta_brand[['brand','brand_new']].head(25)"
   ]
  },
  {
   "cell_type": "code",
   "execution_count": 12,
   "metadata": {
    "collapsed": false
   },
   "outputs": [],
   "source": [
    "## Get the file for womens category that Julius generated\n",
    "\n",
    "review_women = pd.read_csv('review_Women.csv')"
   ]
  },
  {
   "cell_type": "code",
   "execution_count": 13,
   "metadata": {
    "collapsed": false
   },
   "outputs": [
    {
     "data": {
      "text/html": [
       "<div>\n",
       "<table border=\"1\" class=\"dataframe\">\n",
       "  <thead>\n",
       "    <tr style=\"text-align: right;\">\n",
       "      <th></th>\n",
       "      <th>reviewerID</th>\n",
       "      <th>asin</th>\n",
       "      <th>unixReviewTime</th>\n",
       "      <th>brand</th>\n",
       "      <th>price</th>\n",
       "    </tr>\n",
       "  </thead>\n",
       "  <tbody>\n",
       "    <tr>\n",
       "      <th>0</th>\n",
       "      <td>A4KU0XJNBH674</td>\n",
       "      <td>B000051SEN</td>\n",
       "      <td>1372723200</td>\n",
       "      <td>Suunto</td>\n",
       "      <td>159.99</td>\n",
       "    </tr>\n",
       "    <tr>\n",
       "      <th>1</th>\n",
       "      <td>A3HY330W94JPUQ</td>\n",
       "      <td>B000051SEN</td>\n",
       "      <td>1354492800</td>\n",
       "      <td>Suunto</td>\n",
       "      <td>159.99</td>\n",
       "    </tr>\n",
       "    <tr>\n",
       "      <th>2</th>\n",
       "      <td>A1CHOKV10NEI8X</td>\n",
       "      <td>B000051SEN</td>\n",
       "      <td>1143936000</td>\n",
       "      <td>Suunto</td>\n",
       "      <td>159.99</td>\n",
       "    </tr>\n",
       "    <tr>\n",
       "      <th>3</th>\n",
       "      <td>AOUBIY0S651IU</td>\n",
       "      <td>B000051SEN</td>\n",
       "      <td>1399248000</td>\n",
       "      <td>Suunto</td>\n",
       "      <td>159.99</td>\n",
       "    </tr>\n",
       "    <tr>\n",
       "      <th>4</th>\n",
       "      <td>A1GPGBHBI6T2HJ</td>\n",
       "      <td>B000051SEN</td>\n",
       "      <td>1175558400</td>\n",
       "      <td>Suunto</td>\n",
       "      <td>159.99</td>\n",
       "    </tr>\n",
       "  </tbody>\n",
       "</table>\n",
       "</div>"
      ],
      "text/plain": [
       "       reviewerID        asin  unixReviewTime   brand   price\n",
       "0   A4KU0XJNBH674  B000051SEN      1372723200  Suunto  159.99\n",
       "1  A3HY330W94JPUQ  B000051SEN      1354492800  Suunto  159.99\n",
       "2  A1CHOKV10NEI8X  B000051SEN      1143936000  Suunto  159.99\n",
       "3   AOUBIY0S651IU  B000051SEN      1399248000  Suunto  159.99\n",
       "4  A1GPGBHBI6T2HJ  B000051SEN      1175558400  Suunto  159.99"
      ]
     },
     "execution_count": 13,
     "metadata": {},
     "output_type": "execute_result"
    }
   ],
   "source": [
    "review_women.head()"
   ]
  },
  {
   "cell_type": "code",
   "execution_count": 14,
   "metadata": {
    "collapsed": false
   },
   "outputs": [
    {
     "data": {
      "text/html": [
       "<div>\n",
       "<table border=\"1\" class=\"dataframe\">\n",
       "  <thead>\n",
       "    <tr style=\"text-align: right;\">\n",
       "      <th></th>\n",
       "      <th>asin</th>\n",
       "      <th>title</th>\n",
       "      <th>brand</th>\n",
       "      <th>brand_0</th>\n",
       "      <th>brand_1</th>\n",
       "      <th>brand_combined</th>\n",
       "      <th>brand_new</th>\n",
       "    </tr>\n",
       "  </thead>\n",
       "  <tbody>\n",
       "    <tr>\n",
       "      <th>0</th>\n",
       "      <td>0000037214</td>\n",
       "      <td>Purple Sequin Tiny Dancer Tutu Ballet Dance Fa...</td>\n",
       "      <td>Big Dreams</td>\n",
       "      <td>Purple</td>\n",
       "      <td>Sequin</td>\n",
       "      <td>Purple Sequin</td>\n",
       "      <td>Big Dreams</td>\n",
       "    </tr>\n",
       "    <tr>\n",
       "      <th>1</th>\n",
       "      <td>0000031887</td>\n",
       "      <td>Ballet Dress-Up Fairy Tutu</td>\n",
       "      <td>Boutique Cutie</td>\n",
       "      <td>Ballet</td>\n",
       "      <td>Dress-Up</td>\n",
       "      <td>Ballet Dress-Up</td>\n",
       "      <td>Boutique Cutie</td>\n",
       "    </tr>\n",
       "    <tr>\n",
       "      <th>2</th>\n",
       "      <td>0123456479</td>\n",
       "      <td>SHINING IMAGE HUGE PINK LEATHER JEWELRY BOX / ...</td>\n",
       "      <td>NaN</td>\n",
       "      <td>SHINING</td>\n",
       "      <td>IMAGE</td>\n",
       "      <td>SHINING IMAGE</td>\n",
       "      <td>SHINING IMAGE</td>\n",
       "    </tr>\n",
       "    <tr>\n",
       "      <th>3</th>\n",
       "      <td>0456844570</td>\n",
       "      <td>RiZ Women's Beautify Crafted &amp;frac12; Rimmed F...</td>\n",
       "      <td>NaN</td>\n",
       "      <td>RiZ</td>\n",
       "      <td>Women's</td>\n",
       "      <td>RiZ Women's</td>\n",
       "      <td>RiZ Women's</td>\n",
       "    </tr>\n",
       "    <tr>\n",
       "      <th>4</th>\n",
       "      <td>0456808574</td>\n",
       "      <td>Lantin White Visor Wrap Around Ski Style Aviat...</td>\n",
       "      <td>NaN</td>\n",
       "      <td>Lantin</td>\n",
       "      <td>White</td>\n",
       "      <td>Lantin White</td>\n",
       "      <td>Lantin White</td>\n",
       "    </tr>\n",
       "  </tbody>\n",
       "</table>\n",
       "</div>"
      ],
      "text/plain": [
       "         asin                                              title  \\\n",
       "0  0000037214  Purple Sequin Tiny Dancer Tutu Ballet Dance Fa...   \n",
       "1  0000031887                         Ballet Dress-Up Fairy Tutu   \n",
       "2  0123456479  SHINING IMAGE HUGE PINK LEATHER JEWELRY BOX / ...   \n",
       "3  0456844570  RiZ Women's Beautify Crafted &frac12; Rimmed F...   \n",
       "4  0456808574  Lantin White Visor Wrap Around Ski Style Aviat...   \n",
       "\n",
       "            brand  brand_0   brand_1   brand_combined       brand_new  \n",
       "0      Big Dreams   Purple    Sequin    Purple Sequin      Big Dreams  \n",
       "1  Boutique Cutie   Ballet  Dress-Up  Ballet Dress-Up  Boutique Cutie  \n",
       "2             NaN  SHINING     IMAGE    SHINING IMAGE   SHINING IMAGE  \n",
       "3             NaN      RiZ   Women's      RiZ Women's     RiZ Women's  \n",
       "4             NaN   Lantin     White     Lantin White    Lantin White  "
      ]
     },
     "execution_count": 14,
     "metadata": {},
     "output_type": "execute_result"
    }
   ],
   "source": [
    "df_meta_brand.head()"
   ]
  },
  {
   "cell_type": "code",
   "execution_count": 15,
   "metadata": {
    "collapsed": false
   },
   "outputs": [],
   "source": [
    "## Add the brand_new field into the review_women file and keep only the brand_new field\n",
    "\n",
    "review_women_brand_updated = review_women.merge(df_meta_brand, on = 'asin', how='left')[['reviewerID','asin','unixReviewTime','brand_new','price']]"
   ]
  },
  {
   "cell_type": "code",
   "execution_count": 16,
   "metadata": {
    "collapsed": false
   },
   "outputs": [],
   "source": [
    "## Rename the brand_new field as brand\n",
    "\n",
    "review_women_brand_updated = review_women_brand_updated.rename(columns={'brand_new':'brand'})"
   ]
  },
  {
   "cell_type": "code",
   "execution_count": 17,
   "metadata": {
    "collapsed": false
   },
   "outputs": [],
   "source": [
    "## Export the file\n",
    "\n",
    "review_women_brand_updated.to_csv('review_women_brand_updated.csv',index=False)"
   ]
  }
 ],
 "metadata": {
  "kernelspec": {
   "display_name": "Python 2",
   "language": "python",
   "name": "python2"
  },
  "language_info": {
   "codemirror_mode": {
    "name": "ipython",
    "version": 2
   },
   "file_extension": ".py",
   "mimetype": "text/x-python",
   "name": "python",
   "nbconvert_exporter": "python",
   "pygments_lexer": "ipython2",
   "version": "2.7.9"
  }
 },
 "nbformat": 4,
 "nbformat_minor": 2
}
