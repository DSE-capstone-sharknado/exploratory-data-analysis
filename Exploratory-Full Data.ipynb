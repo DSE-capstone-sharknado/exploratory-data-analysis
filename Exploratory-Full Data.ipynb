{
 "cells": [
  {
   "cell_type": "markdown",
   "metadata": {},
   "source": [
    "# Exploratory analysis\n",
    "\n",
    "1. This workbook covers some basic exploratory analyses to understand the data better\n",
    "2. Both Review data and Product (meta data) have been analyzed here\n",
    "3. Image data has not been analyzed"
   ]
  },
  {
   "cell_type": "code",
   "execution_count": 164,
   "metadata": {
    "collapsed": true
   },
   "outputs": [],
   "source": [
    "import pandas as pd\n",
    "import gzip\n",
    "\n",
    "# Reading the review\n",
    "# def parse(path):\n",
    "#     g = gzip.open(path, 'rb')\n",
    "#     for l in g:\n",
    "#         yield eval(l)\n",
    "\n",
    "# def getDF(path):\n",
    "#     i = 0\n",
    "#     df = {}\n",
    "#     for d in parse(path):\n",
    "#         df[i] = d\n",
    "#         i += 1\n",
    "#     return pd.DataFrame.from_dict(df, orient='index')"
   ]
  },
  {
   "cell_type": "code",
   "execution_count": 165,
   "metadata": {
    "collapsed": false
   },
   "outputs": [
    {
     "name": "stdout",
     "output_type": "stream",
     "text": [
      "/Users/Deepthi/Documents/DSE/Capstone/Data/From Julius\n"
     ]
    }
   ],
   "source": [
    "%cd /Users/Deepthi/Documents/DSE/Capstone/Data/From Julius"
   ]
  },
  {
   "cell_type": "code",
   "execution_count": 166,
   "metadata": {
    "collapsed": false
   },
   "outputs": [
    {
     "name": "stdout",
     "output_type": "stream",
     "text": [
      "cleaned.hd5\r\n",
      "cleaned.hd5.zip\r\n",
      "image_features_Clothing_Shoes_and_Jewelry.b\r\n",
      "meta_Clothing_Shoes_and_Jewelry.json.gz\r\n",
      "ratings_Clothing_Shoes_and_Jewelry.csv\r\n",
      "review_Women.csv\r\n",
      "review_Women.csv.gz\r\n",
      "review_women_brand_updated.csv\r\n",
      "review_women_brnd_fv_prce_updated.csv\r\n",
      "review_women_brnd_fv_updated.csv\r\n",
      "review_women_brnd_fv_updated_2.csv\r\n",
      "review_women_brnd_fv_updated_3.csv\r\n",
      "reviews_Clothing_Shoes_and_Jewelry.json.gz\r\n",
      "reviews_Clothing_Shoes_and_Jewelry_5.json.gz\r\n",
      "reviews_Women_ALL_scraped.csv\r\n",
      "reviews_Women_ALL_scraped.csv.gz\r\n",
      "reviews_Women_scraped.csv.gz\r\n",
      "reviews_Women_scraped_cpp.csv\r\n",
      "reviews_Women_scraped_cpp.csv.gz\r\n",
      "reviews_Women_scraped_cpp_fv_all.csv\r\n",
      "reviews_Women_scraped_cpp_fv_all.csv.zip\r\n",
      "tfidf_score.csv\r\n"
     ]
    }
   ],
   "source": [
    "!ls"
   ]
  },
  {
   "cell_type": "code",
   "execution_count": 167,
   "metadata": {
    "collapsed": true
   },
   "outputs": [],
   "source": [
    "## Women's metadata\n",
    "df_meta = pd.read_hdf('cleaned.hd5', key='womens')"
   ]
  },
  {
   "cell_type": "code",
   "execution_count": 168,
   "metadata": {
    "collapsed": true
   },
   "outputs": [],
   "source": [
    "df_review = pd.read_csv('reviews_Women_ALL_scraped.csv')"
   ]
  },
  {
   "cell_type": "code",
   "execution_count": 17,
   "metadata": {
    "collapsed": false
   },
   "outputs": [
    {
     "data": {
      "text/plain": [
       "Index([u'BRAND', u'FEATURE_BULLETS', u'NAME', u'ORIGINAL_PRICE',\n",
       "       u'PRODUCT_DESCRIPTION', u'PRODUCT_INFORMATION', u'SALE_PRICE', u'URL',\n",
       "       u'asin'],\n",
       "      dtype='object')"
      ]
     },
     "execution_count": 17,
     "metadata": {},
     "output_type": "execute_result"
    }
   ],
   "source": [
    "df_meta.columns"
   ]
  },
  {
   "cell_type": "code",
   "execution_count": 18,
   "metadata": {
    "collapsed": false
   },
   "outputs": [
    {
     "data": {
      "text/plain": [
       "Index([u'reviewerId', u'asin', u'unixReviewTime', u'brand', u'price'], dtype='object')"
      ]
     },
     "execution_count": 18,
     "metadata": {},
     "output_type": "execute_result"
    }
   ],
   "source": [
    "df_review.columns"
   ]
  },
  {
   "cell_type": "code",
   "execution_count": 23,
   "metadata": {
    "collapsed": false
   },
   "outputs": [
    {
     "name": "stdout",
     "output_type": "stream",
     "text": [
      "Populating the interactive namespace from numpy and matplotlib\n"
     ]
    }
   ],
   "source": [
    "import matplotlib.pyplot as plt\n",
    "%pylab inline"
   ]
  },
  {
   "cell_type": "markdown",
   "metadata": {},
   "source": [
    "### Analyze customers"
   ]
  },
  {
   "cell_type": "code",
   "execution_count": 33,
   "metadata": {
    "collapsed": false
   },
   "outputs": [
    {
     "data": {
      "image/png": "[encoded data removed]",
      "text/plain": [
       "<matplotlib.figure.Figure at 0x1117d3550>"
      ]
     },
     "metadata": {},
     "output_type": "display_data"
    }
   ],
   "source": [
    "## Number of reviews by each customer\n",
    "## This histogram shows that most customers write 5 reviews\n",
    "\n",
    "# df_review.groupby(['reviewerID']).asin.nunique().reset_index()['asin'].hist(bins=range(5,25,1))\n",
    "\n",
    "ax = df_review.groupby(['reviewerId']).asin.nunique().reset_index()['asin'].plot(kind = 'hist',bins =range(1,15,1),\\\n",
    "                                                                                 title = 'Distribution of #reviews by each customer'\\\n",
    "                                                                                ,facecolor='#80cbc4')\n",
    "ax.set_xlabel('# number of reviews')\n",
    "ax.set_ylabel('# number of customers')\n",
    "ax.set_facecolor('#fffbf0')\n",
    "plt.show()"
   ]
  },
  {
   "cell_type": "code",
   "execution_count": 32,
   "metadata": {
    "collapsed": false
   },
   "outputs": [],
   "source": [
    "df_review2 = df_review.groupby(['reviewerId']).asin.nunique().reset_index().groupby('asin').reviewerId.nunique().reset_index()"
   ]
  },
  {
   "cell_type": "code",
   "execution_count": 37,
   "metadata": {
    "collapsed": false
   },
   "outputs": [],
   "source": [
    "df_review2['pct_reviewers']=df_review2['reviewerId']*100/df_review2['reviewerId'].sum()"
   ]
  },
  {
   "cell_type": "code",
   "execution_count": 38,
   "metadata": {
    "collapsed": false
   },
   "outputs": [
    {
     "data": {
      "text/html": [
       "<div>\n",
       "<table border=\"1\" class=\"dataframe\">\n",
       "  <thead>\n",
       "    <tr style=\"text-align: right;\">\n",
       "      <th></th>\n",
       "      <th>asin</th>\n",
       "      <th>reviewerId</th>\n",
       "      <th>pct_reviewers</th>\n",
       "    </tr>\n",
       "  </thead>\n",
       "  <tbody>\n",
       "    <tr>\n",
       "      <th>0</th>\n",
       "      <td>1</td>\n",
       "      <td>1143741</td>\n",
       "      <td>70.133609</td>\n",
       "    </tr>\n",
       "    <tr>\n",
       "      <th>1</th>\n",
       "      <td>2</td>\n",
       "      <td>257366</td>\n",
       "      <td>15.781551</td>\n",
       "    </tr>\n",
       "    <tr>\n",
       "      <th>2</th>\n",
       "      <td>3</td>\n",
       "      <td>98628</td>\n",
       "      <td>6.047818</td>\n",
       "    </tr>\n",
       "    <tr>\n",
       "      <th>3</th>\n",
       "      <td>4</td>\n",
       "      <td>47289</td>\n",
       "      <td>2.899737</td>\n",
       "    </tr>\n",
       "    <tr>\n",
       "      <th>4</th>\n",
       "      <td>5</td>\n",
       "      <td>26362</td>\n",
       "      <td>1.616504</td>\n",
       "    </tr>\n",
       "    <tr>\n",
       "      <th>5</th>\n",
       "      <td>6</td>\n",
       "      <td>16076</td>\n",
       "      <td>0.985772</td>\n",
       "    </tr>\n",
       "    <tr>\n",
       "      <th>6</th>\n",
       "      <td>7</td>\n",
       "      <td>10312</td>\n",
       "      <td>0.632327</td>\n",
       "    </tr>\n",
       "    <tr>\n",
       "      <th>7</th>\n",
       "      <td>8</td>\n",
       "      <td>7139</td>\n",
       "      <td>0.437760</td>\n",
       "    </tr>\n",
       "    <tr>\n",
       "      <th>8</th>\n",
       "      <td>9</td>\n",
       "      <td>5098</td>\n",
       "      <td>0.312607</td>\n",
       "    </tr>\n",
       "    <tr>\n",
       "      <th>9</th>\n",
       "      <td>10</td>\n",
       "      <td>3650</td>\n",
       "      <td>0.223816</td>\n",
       "    </tr>\n",
       "    <tr>\n",
       "      <th>10</th>\n",
       "      <td>11</td>\n",
       "      <td>2790</td>\n",
       "      <td>0.171081</td>\n",
       "    </tr>\n",
       "    <tr>\n",
       "      <th>11</th>\n",
       "      <td>12</td>\n",
       "      <td>2021</td>\n",
       "      <td>0.123927</td>\n",
       "    </tr>\n",
       "    <tr>\n",
       "      <th>12</th>\n",
       "      <td>13</td>\n",
       "      <td>1609</td>\n",
       "      <td>0.098663</td>\n",
       "    </tr>\n",
       "    <tr>\n",
       "      <th>13</th>\n",
       "      <td>14</td>\n",
       "      <td>1331</td>\n",
       "      <td>0.081616</td>\n",
       "    </tr>\n",
       "    <tr>\n",
       "      <th>14</th>\n",
       "      <td>15</td>\n",
       "      <td>1052</td>\n",
       "      <td>0.064508</td>\n",
       "    </tr>\n",
       "    <tr>\n",
       "      <th>15</th>\n",
       "      <td>16</td>\n",
       "      <td>869</td>\n",
       "      <td>0.053287</td>\n",
       "    </tr>\n",
       "    <tr>\n",
       "      <th>16</th>\n",
       "      <td>17</td>\n",
       "      <td>736</td>\n",
       "      <td>0.045131</td>\n",
       "    </tr>\n",
       "    <tr>\n",
       "      <th>17</th>\n",
       "      <td>18</td>\n",
       "      <td>571</td>\n",
       "      <td>0.035013</td>\n",
       "    </tr>\n",
       "    <tr>\n",
       "      <th>18</th>\n",
       "      <td>19</td>\n",
       "      <td>458</td>\n",
       "      <td>0.028084</td>\n",
       "    </tr>\n",
       "    <tr>\n",
       "      <th>19</th>\n",
       "      <td>20</td>\n",
       "      <td>424</td>\n",
       "      <td>0.025999</td>\n",
       "    </tr>\n",
       "    <tr>\n",
       "      <th>20</th>\n",
       "      <td>21</td>\n",
       "      <td>352</td>\n",
       "      <td>0.021584</td>\n",
       "    </tr>\n",
       "    <tr>\n",
       "      <th>21</th>\n",
       "      <td>22</td>\n",
       "      <td>297</td>\n",
       "      <td>0.018212</td>\n",
       "    </tr>\n",
       "    <tr>\n",
       "      <th>22</th>\n",
       "      <td>23</td>\n",
       "      <td>266</td>\n",
       "      <td>0.016311</td>\n",
       "    </tr>\n",
       "    <tr>\n",
       "      <th>23</th>\n",
       "      <td>24</td>\n",
       "      <td>223</td>\n",
       "      <td>0.013674</td>\n",
       "    </tr>\n",
       "    <tr>\n",
       "      <th>24</th>\n",
       "      <td>25</td>\n",
       "      <td>192</td>\n",
       "      <td>0.011773</td>\n",
       "    </tr>\n",
       "    <tr>\n",
       "      <th>25</th>\n",
       "      <td>26</td>\n",
       "      <td>183</td>\n",
       "      <td>0.011221</td>\n",
       "    </tr>\n",
       "    <tr>\n",
       "      <th>26</th>\n",
       "      <td>27</td>\n",
       "      <td>146</td>\n",
       "      <td>0.008953</td>\n",
       "    </tr>\n",
       "    <tr>\n",
       "      <th>27</th>\n",
       "      <td>28</td>\n",
       "      <td>143</td>\n",
       "      <td>0.008769</td>\n",
       "    </tr>\n",
       "    <tr>\n",
       "      <th>28</th>\n",
       "      <td>29</td>\n",
       "      <td>136</td>\n",
       "      <td>0.008339</td>\n",
       "    </tr>\n",
       "    <tr>\n",
       "      <th>29</th>\n",
       "      <td>30</td>\n",
       "      <td>122</td>\n",
       "      <td>0.007481</td>\n",
       "    </tr>\n",
       "    <tr>\n",
       "      <th>...</th>\n",
       "      <td>...</td>\n",
       "      <td>...</td>\n",
       "      <td>...</td>\n",
       "    </tr>\n",
       "    <tr>\n",
       "      <th>93</th>\n",
       "      <td>97</td>\n",
       "      <td>1</td>\n",
       "      <td>0.000061</td>\n",
       "    </tr>\n",
       "    <tr>\n",
       "      <th>94</th>\n",
       "      <td>98</td>\n",
       "      <td>1</td>\n",
       "      <td>0.000061</td>\n",
       "    </tr>\n",
       "    <tr>\n",
       "      <th>95</th>\n",
       "      <td>100</td>\n",
       "      <td>1</td>\n",
       "      <td>0.000061</td>\n",
       "    </tr>\n",
       "    <tr>\n",
       "      <th>96</th>\n",
       "      <td>103</td>\n",
       "      <td>1</td>\n",
       "      <td>0.000061</td>\n",
       "    </tr>\n",
       "    <tr>\n",
       "      <th>97</th>\n",
       "      <td>104</td>\n",
       "      <td>1</td>\n",
       "      <td>0.000061</td>\n",
       "    </tr>\n",
       "    <tr>\n",
       "      <th>98</th>\n",
       "      <td>106</td>\n",
       "      <td>1</td>\n",
       "      <td>0.000061</td>\n",
       "    </tr>\n",
       "    <tr>\n",
       "      <th>99</th>\n",
       "      <td>110</td>\n",
       "      <td>2</td>\n",
       "      <td>0.000123</td>\n",
       "    </tr>\n",
       "    <tr>\n",
       "      <th>100</th>\n",
       "      <td>111</td>\n",
       "      <td>1</td>\n",
       "      <td>0.000061</td>\n",
       "    </tr>\n",
       "    <tr>\n",
       "      <th>101</th>\n",
       "      <td>112</td>\n",
       "      <td>2</td>\n",
       "      <td>0.000123</td>\n",
       "    </tr>\n",
       "    <tr>\n",
       "      <th>102</th>\n",
       "      <td>118</td>\n",
       "      <td>1</td>\n",
       "      <td>0.000061</td>\n",
       "    </tr>\n",
       "    <tr>\n",
       "      <th>103</th>\n",
       "      <td>119</td>\n",
       "      <td>1</td>\n",
       "      <td>0.000061</td>\n",
       "    </tr>\n",
       "    <tr>\n",
       "      <th>104</th>\n",
       "      <td>121</td>\n",
       "      <td>1</td>\n",
       "      <td>0.000061</td>\n",
       "    </tr>\n",
       "    <tr>\n",
       "      <th>105</th>\n",
       "      <td>132</td>\n",
       "      <td>1</td>\n",
       "      <td>0.000061</td>\n",
       "    </tr>\n",
       "    <tr>\n",
       "      <th>106</th>\n",
       "      <td>133</td>\n",
       "      <td>1</td>\n",
       "      <td>0.000061</td>\n",
       "    </tr>\n",
       "    <tr>\n",
       "      <th>107</th>\n",
       "      <td>134</td>\n",
       "      <td>1</td>\n",
       "      <td>0.000061</td>\n",
       "    </tr>\n",
       "    <tr>\n",
       "      <th>108</th>\n",
       "      <td>137</td>\n",
       "      <td>1</td>\n",
       "      <td>0.000061</td>\n",
       "    </tr>\n",
       "    <tr>\n",
       "      <th>109</th>\n",
       "      <td>138</td>\n",
       "      <td>1</td>\n",
       "      <td>0.000061</td>\n",
       "    </tr>\n",
       "    <tr>\n",
       "      <th>110</th>\n",
       "      <td>164</td>\n",
       "      <td>1</td>\n",
       "      <td>0.000061</td>\n",
       "    </tr>\n",
       "    <tr>\n",
       "      <th>111</th>\n",
       "      <td>165</td>\n",
       "      <td>1</td>\n",
       "      <td>0.000061</td>\n",
       "    </tr>\n",
       "    <tr>\n",
       "      <th>112</th>\n",
       "      <td>170</td>\n",
       "      <td>1</td>\n",
       "      <td>0.000061</td>\n",
       "    </tr>\n",
       "    <tr>\n",
       "      <th>113</th>\n",
       "      <td>173</td>\n",
       "      <td>1</td>\n",
       "      <td>0.000061</td>\n",
       "    </tr>\n",
       "    <tr>\n",
       "      <th>114</th>\n",
       "      <td>175</td>\n",
       "      <td>1</td>\n",
       "      <td>0.000061</td>\n",
       "    </tr>\n",
       "    <tr>\n",
       "      <th>115</th>\n",
       "      <td>189</td>\n",
       "      <td>1</td>\n",
       "      <td>0.000061</td>\n",
       "    </tr>\n",
       "    <tr>\n",
       "      <th>116</th>\n",
       "      <td>201</td>\n",
       "      <td>1</td>\n",
       "      <td>0.000061</td>\n",
       "    </tr>\n",
       "    <tr>\n",
       "      <th>117</th>\n",
       "      <td>213</td>\n",
       "      <td>1</td>\n",
       "      <td>0.000061</td>\n",
       "    </tr>\n",
       "    <tr>\n",
       "      <th>118</th>\n",
       "      <td>216</td>\n",
       "      <td>1</td>\n",
       "      <td>0.000061</td>\n",
       "    </tr>\n",
       "    <tr>\n",
       "      <th>119</th>\n",
       "      <td>243</td>\n",
       "      <td>1</td>\n",
       "      <td>0.000061</td>\n",
       "    </tr>\n",
       "    <tr>\n",
       "      <th>120</th>\n",
       "      <td>247</td>\n",
       "      <td>1</td>\n",
       "      <td>0.000061</td>\n",
       "    </tr>\n",
       "    <tr>\n",
       "      <th>121</th>\n",
       "      <td>270</td>\n",
       "      <td>1</td>\n",
       "      <td>0.000061</td>\n",
       "    </tr>\n",
       "    <tr>\n",
       "      <th>122</th>\n",
       "      <td>273</td>\n",
       "      <td>1</td>\n",
       "      <td>0.000061</td>\n",
       "    </tr>\n",
       "  </tbody>\n",
       "</table>\n",
       "<p>123 rows × 3 columns</p>\n",
       "</div>"
      ],
      "text/plain": [
       "     asin  reviewerId  pct_reviewers\n",
       "0       1     1143741      70.133609\n",
       "1       2      257366      15.781551\n",
       "2       3       98628       6.047818\n",
       "3       4       47289       2.899737\n",
       "4       5       26362       1.616504\n",
       "5       6       16076       0.985772\n",
       "6       7       10312       0.632327\n",
       "7       8        7139       0.437760\n",
       "8       9        5098       0.312607\n",
       "9      10        3650       0.223816\n",
       "10     11        2790       0.171081\n",
       "11     12        2021       0.123927\n",
       "12     13        1609       0.098663\n",
       "13     14        1331       0.081616\n",
       "14     15        1052       0.064508\n",
       "15     16         869       0.053287\n",
       "16     17         736       0.045131\n",
       "17     18         571       0.035013\n",
       "18     19         458       0.028084\n",
       "19     20         424       0.025999\n",
       "20     21         352       0.021584\n",
       "21     22         297       0.018212\n",
       "22     23         266       0.016311\n",
       "23     24         223       0.013674\n",
       "24     25         192       0.011773\n",
       "25     26         183       0.011221\n",
       "26     27         146       0.008953\n",
       "27     28         143       0.008769\n",
       "28     29         136       0.008339\n",
       "29     30         122       0.007481\n",
       "..    ...         ...            ...\n",
       "93     97           1       0.000061\n",
       "94     98           1       0.000061\n",
       "95    100           1       0.000061\n",
       "96    103           1       0.000061\n",
       "97    104           1       0.000061\n",
       "98    106           1       0.000061\n",
       "99    110           2       0.000123\n",
       "100   111           1       0.000061\n",
       "101   112           2       0.000123\n",
       "102   118           1       0.000061\n",
       "103   119           1       0.000061\n",
       "104   121           1       0.000061\n",
       "105   132           1       0.000061\n",
       "106   133           1       0.000061\n",
       "107   134           1       0.000061\n",
       "108   137           1       0.000061\n",
       "109   138           1       0.000061\n",
       "110   164           1       0.000061\n",
       "111   165           1       0.000061\n",
       "112   170           1       0.000061\n",
       "113   173           1       0.000061\n",
       "114   175           1       0.000061\n",
       "115   189           1       0.000061\n",
       "116   201           1       0.000061\n",
       "117   213           1       0.000061\n",
       "118   216           1       0.000061\n",
       "119   243           1       0.000061\n",
       "120   247           1       0.000061\n",
       "121   270           1       0.000061\n",
       "122   273           1       0.000061\n",
       "\n",
       "[123 rows x 3 columns]"
      ]
     },
     "execution_count": 38,
     "metadata": {},
     "output_type": "execute_result"
    }
   ],
   "source": [
    "# Customers with 0-4 reviews form about 95% of the data. So 5 core happens to be 5% of the data.\n",
    "df_review2"
   ]
  },
  {
   "cell_type": "code",
   "execution_count": 41,
   "metadata": {
    "collapsed": false
   },
   "outputs": [],
   "source": [
    "## To plot the same distribution as %\n",
    "df = df_review.groupby(['reviewerId']).asin.nunique().reset_index()\n",
    "# df2= df.groupby(['asin']).count('asin').reset_index().sort('reviewerID',ascending = False)\n",
    "\n",
    "df2= df.groupby(['asin']).reviewerId.nunique().reset_index().sort_values('reviewerId',ascending = False)"
   ]
  },
  {
   "cell_type": "code",
   "execution_count": 42,
   "metadata": {
    "collapsed": true
   },
   "outputs": [],
   "source": [
    "def flag(row):\n",
    "        if row['asin'] == 1 :\n",
    "            return '01'\n",
    "        if row['asin'] == 2 :\n",
    "            return '02'\n",
    "        if row['asin'] == 3 :\n",
    "            return '03'\n",
    "        if row['asin'] == 4 :\n",
    "            return '04'\n",
    "        if row['asin'] == 5 :\n",
    "            return '05'\n",
    "        if row['asin'] == 6 :\n",
    "            return '06'\n",
    "        if row['asin'] == 7 :\n",
    "            return '07'\n",
    "        if row['asin'] == 8 :\n",
    "            return '08'\n",
    "        if row['asin'] == 9 :\n",
    "            return '09'\n",
    "        if row['asin'] == 10 :\n",
    "            return '10'\n",
    "        if row['asin'] > 10 :\n",
    "            return '>10'"
   ]
  },
  {
   "cell_type": "code",
   "execution_count": 44,
   "metadata": {
    "collapsed": false
   },
   "outputs": [],
   "source": [
    "df2['flag']=df2.apply(lambda row: flag(row),axis=1)\n",
    "df3 = df2.groupby(['flag']).reviewerId.sum().reset_index()"
   ]
  },
  {
   "cell_type": "code",
   "execution_count": 45,
   "metadata": {
    "collapsed": false
   },
   "outputs": [],
   "source": [
    "df3['pct'] = df3['reviewerId']/(df3['reviewerId'].sum())*100"
   ]
  },
  {
   "cell_type": "code",
   "execution_count": 46,
   "metadata": {
    "collapsed": false
   },
   "outputs": [
    {
     "name": "stderr",
     "output_type": "stream",
     "text": [
      "/Users/Deepthi/anaconda/lib/python2.7/site-packages/ipykernel/__main__.py:1: FutureWarning: sort(columns=....) is deprecated, use sort_values(by=.....)\n",
      "  if __name__ == '__main__':\n",
      "/Users/Deepthi/anaconda/lib/python2.7/site-packages/ipykernel/__main__.py:4: MatplotlibDeprecationWarning: The set_axis_bgcolor function was deprecated in version 2.0. Use set_facecolor instead.\n"
     ]
    },
    {
     "data": {
      "image/png": "[encoded data removed]",
      "text/plain": [
       "<matplotlib.figure.Figure at 0x11043af50>"
      ]
     },
     "metadata": {},
     "output_type": "display_data"
    }
   ],
   "source": [
    "ax = df3.sort('flag',ascending=True).plot(kind='bar',x = 'flag',y='pct', color ='#80cbc4',\\\n",
    "                                     title='%customers by number of reviews'\\\n",
    "                                     ,legend = False)\n",
    "ax.set_xlabel('# reviews')\n",
    "ax.set_ylabel('% customers')\n",
    "ax.set_axis_bgcolor('#fffbf0')\n",
    "plt.show()\n",
    "\n",
    "## This graph says that 40% of the customers write 5 reviews \n",
    "## 75% of the reviews are written by customers writing upto 7 reviews"
   ]
  },
  {
   "cell_type": "markdown",
   "metadata": {},
   "source": [
    "### Helpful ratings"
   ]
  },
  {
   "cell_type": "code",
   "execution_count": 48,
   "metadata": {
    "collapsed": false
   },
   "outputs": [],
   "source": [
    "# helpful = df_review['helpful']"
   ]
  },
  {
   "cell_type": "code",
   "execution_count": 17,
   "metadata": {
    "collapsed": false
   },
   "outputs": [],
   "source": [
    "# yes=[]\n",
    "# no=[]\n",
    "# for i in range(len(df_review['helpful'])):\n",
    "#     x = df_review['helpful'][i][0]\n",
    "#     yes.append(x)\n",
    "#     y = df_review['helpful'][i][1]\n",
    "#     no.append(y)"
   ]
  },
  {
   "cell_type": "code",
   "execution_count": 18,
   "metadata": {
    "collapsed": false
   },
   "outputs": [],
   "source": [
    "# df_review['helpful_yes']=yes\n",
    "# df_review['helpful_no']=no"
   ]
  },
  {
   "cell_type": "code",
   "execution_count": 19,
   "metadata": {
    "collapsed": false
   },
   "outputs": [],
   "source": [
    "# helpful_review = df_review[['overall','helpful_yes','helpful_no']].groupby('overall').sum().reset_index()"
   ]
  },
  {
   "cell_type": "code",
   "execution_count": 20,
   "metadata": {
    "collapsed": false
   },
   "outputs": [],
   "source": [
    "# helpful_review['yes_pct'] = helpful_review['helpful_yes']*100/(helpful_review['helpful_yes']+ helpful_review['helpful_no'])\n",
    "# helpful_review['no_pct'] = helpful_review['helpful_no']*100/(helpful_review['helpful_yes']+ helpful_review['helpful_no'])"
   ]
  },
  {
   "cell_type": "code",
   "execution_count": 50,
   "metadata": {
    "collapsed": false
   },
   "outputs": [],
   "source": [
    "# helpful_review\n",
    "## Higher tendency to click 'no' when not helpful than clicking 'yes' when helpful"
   ]
  },
  {
   "cell_type": "code",
   "execution_count": 49,
   "metadata": {
    "collapsed": false
   },
   "outputs": [],
   "source": [
    "# ax = helpful_review[['overall','yes_pct','no_pct']].plot(kind = 'bar', x = 'overall', title = 'Helpfulness Rating'\\\n",
    "#                                                         ,color =['#00695c','#af4345'])\n",
    "                                                        \n",
    "\n",
    "\n",
    "# ax.set_xlabel('Overall Ratings')\n",
    "# ax.set_ylabel('% Helpful - Yes/No ')\n",
    "# ax.set_axis_bgcolor('#fffbf0')\n",
    "# ax.legend(('%Yes','%No'),loc=4)"
   ]
  },
  {
   "cell_type": "markdown",
   "metadata": {},
   "source": [
    "### Overall Ratings"
   ]
  },
  {
   "cell_type": "code",
   "execution_count": 52,
   "metadata": {
    "collapsed": false
   },
   "outputs": [],
   "source": [
    "# overall_ratings = df_review[['reviewerId','asin','overall']].drop_duplicates().groupby(['overall']).reviewerId\\\n",
    "#                   .nunique().reset_index()"
   ]
  },
  {
   "cell_type": "code",
   "execution_count": 24,
   "metadata": {
    "collapsed": false
   },
   "outputs": [],
   "source": [
    "# total_cust_ratings = overall_ratings['reviewerID'].sum()"
   ]
  },
  {
   "cell_type": "code",
   "execution_count": 25,
   "metadata": {
    "collapsed": true
   },
   "outputs": [],
   "source": [
    "# overall_ratings['num_cust_ratings_pct'] = overall_ratings['reviewerID']*100/total_cust_ratings"
   ]
  },
  {
   "cell_type": "code",
   "execution_count": 26,
   "metadata": {
    "collapsed": false
   },
   "outputs": [
    {
     "data": {
      "text/html": [
       "<div>\n",
       "<table border=\"1\" class=\"dataframe\">\n",
       "  <thead>\n",
       "    <tr style=\"text-align: right;\">\n",
       "      <th></th>\n",
       "      <th>overall</th>\n",
       "      <th>reviewerID</th>\n",
       "      <th>num_cust_ratings_pct</th>\n",
       "    </tr>\n",
       "  </thead>\n",
       "  <tbody>\n",
       "    <tr>\n",
       "      <th>0</th>\n",
       "      <td>1</td>\n",
       "      <td>8025</td>\n",
       "      <td>7.790808</td>\n",
       "    </tr>\n",
       "    <tr>\n",
       "      <th>1</th>\n",
       "      <td>2</td>\n",
       "      <td>11214</td>\n",
       "      <td>10.886744</td>\n",
       "    </tr>\n",
       "    <tr>\n",
       "      <th>2</th>\n",
       "      <td>3</td>\n",
       "      <td>19056</td>\n",
       "      <td>18.499893</td>\n",
       "    </tr>\n",
       "    <tr>\n",
       "      <th>3</th>\n",
       "      <td>4</td>\n",
       "      <td>26930</td>\n",
       "      <td>26.144108</td>\n",
       "    </tr>\n",
       "    <tr>\n",
       "      <th>4</th>\n",
       "      <td>5</td>\n",
       "      <td>37781</td>\n",
       "      <td>36.678446</td>\n",
       "    </tr>\n",
       "  </tbody>\n",
       "</table>\n",
       "</div>"
      ],
      "text/plain": [
       "   overall  reviewerID  num_cust_ratings_pct\n",
       "0        1        8025              7.790808\n",
       "1        2       11214             10.886744\n",
       "2        3       19056             18.499893\n",
       "3        4       26930             26.144108\n",
       "4        5       37781             36.678446"
      ]
     },
     "execution_count": 26,
     "metadata": {},
     "output_type": "execute_result"
    }
   ],
   "source": [
    "# overall_ratings\n",
    "# ## People tend to write a review only if they like the product\n",
    "# ## I expected them to write a review if they hate it as well"
   ]
  },
  {
   "cell_type": "code",
   "execution_count": 53,
   "metadata": {
    "collapsed": false
   },
   "outputs": [],
   "source": [
    "# ax = overall_ratings.plot(kind = 'bar', x = 'overall',y='num_cust_ratings_pct', title = 'Overall Rating'\\\n",
    "#                                                         ,color =['#26a69a'], legend = False)\n",
    "                                                        \n",
    "\n",
    "\n",
    "# ax.set_xlabel('Overall Ratings')\n",
    "# ax.set_ylabel('% customers ')\n",
    "# ax.set_axis_bgcolor('#fffbf0')"
   ]
  },
  {
   "cell_type": "markdown",
   "metadata": {},
   "source": [
    "### Reviews by time"
   ]
  },
  {
   "cell_type": "code",
   "execution_count": 28,
   "metadata": {
    "collapsed": false
   },
   "outputs": [],
   "source": [
    "# df_review.groupby(['reviewTime','overall']).reviewerID.count().reset_index().to_csv('time_plot.csv')"
   ]
  },
  {
   "cell_type": "code",
   "execution_count": 131,
   "metadata": {
    "collapsed": false,
    "scrolled": true
   },
   "outputs": [],
   "source": [
    "df_review['unixReviewTime2']=pd.to_datetime(df_review['unixReviewTime'],unit='s')"
   ]
  },
  {
   "cell_type": "code",
   "execution_count": 132,
   "metadata": {
    "collapsed": false
   },
   "outputs": [],
   "source": [
    "reviews_by_time = df_review.groupby(['unixReviewTime2']).reviewerId.count().reset_index()"
   ]
  },
  {
   "cell_type": "code",
   "execution_count": 134,
   "metadata": {
    "collapsed": false
   },
   "outputs": [],
   "source": [
    "reviews_by_time['year'] = pd.DatetimeIndex(reviews_by_time['unixReviewTime2']).year\n",
    "reviews_by_time['month'] = pd.DatetimeIndex(reviews_by_time['unixReviewTime2']).month\n"
   ]
  },
  {
   "cell_type": "code",
   "execution_count": 136,
   "metadata": {
    "collapsed": false
   },
   "outputs": [
    {
     "data": {
      "image/png": "[encoded data removed]",
      "text/plain": [
       "<matplotlib.figure.Figure at 0x111463910>"
      ]
     },
     "metadata": {},
     "output_type": "display_data"
    }
   ],
   "source": [
    "ax = reviews_by_time.groupby('year').reviewerId.sum().reset_index().plot(x='year',y='reviewerId', color='#00695c',\\\n",
    "                                                                         legend = False, title = '#Reviews over time')\n",
    "\n",
    "ax.set_xlabel('Year')\n",
    "ax.set_ylabel('# Ratings')\n",
    "ax.set_facecolor('#fffbf0')\n",
    "\n",
    "## Huge increase in reviews since 2011"
   ]
  },
  {
   "cell_type": "code",
   "execution_count": 138,
   "metadata": {
    "collapsed": false
   },
   "outputs": [],
   "source": [
    "reviews_by_time1= reviews_by_time[reviews_by_time['year']>2011]"
   ]
  },
  {
   "cell_type": "code",
   "execution_count": 142,
   "metadata": {
    "collapsed": false
   },
   "outputs": [
    {
     "name": "stderr",
     "output_type": "stream",
     "text": [
      "/Users/Deepthi/anaconda/lib/python2.7/site-packages/ipykernel/__main__.py:6: MatplotlibDeprecationWarning: The set_axis_bgcolor function was deprecated in version 2.0. Use set_facecolor instead.\n"
     ]
    },
    {
     "data": {
      "image/png": "[encoded data removed]",
      "text/plain": [
       "<matplotlib.figure.Figure at 0x1223b7690>"
      ]
     },
     "metadata": {},
     "output_type": "display_data"
    }
   ],
   "source": [
    "ax = reviews_by_time1[(reviews_by_time1['year']<>2014)].groupby(['month']).reviewerId.mean().reset_index().\\\n",
    "plot(x='month',y='reviewerId', legend = False, title = 'Avg. number of Ratings by month-(2011 to 2013)',color='#00695c')\n",
    "\n",
    "\n",
    "ax.set_xlabel('Month')\n",
    "ax.set_ylabel('Avg. number of Ratings')\n",
    "ax.set_axis_bgcolor('#fffbf0')\n",
    "## Highest number of reviews during holiday season"
   ]
  },
  {
   "cell_type": "code",
   "execution_count": 143,
   "metadata": {
    "collapsed": false
   },
   "outputs": [
    {
     "data": {
      "text/html": [
       "<div>\n",
       "<table border=\"1\" class=\"dataframe\">\n",
       "  <thead>\n",
       "    <tr style=\"text-align: right;\">\n",
       "      <th></th>\n",
       "      <th>year</th>\n",
       "      <th>month</th>\n",
       "      <th>reviewerId</th>\n",
       "    </tr>\n",
       "  </thead>\n",
       "  <tbody>\n",
       "    <tr>\n",
       "      <th>0</th>\n",
       "      <td>2000</td>\n",
       "      <td>11</td>\n",
       "      <td>1</td>\n",
       "    </tr>\n",
       "    <tr>\n",
       "      <th>1</th>\n",
       "      <td>2000</td>\n",
       "      <td>12</td>\n",
       "      <td>2</td>\n",
       "    </tr>\n",
       "    <tr>\n",
       "      <th>2</th>\n",
       "      <td>2001</td>\n",
       "      <td>8</td>\n",
       "      <td>1</td>\n",
       "    </tr>\n",
       "    <tr>\n",
       "      <th>3</th>\n",
       "      <td>2001</td>\n",
       "      <td>9</td>\n",
       "      <td>1</td>\n",
       "    </tr>\n",
       "    <tr>\n",
       "      <th>4</th>\n",
       "      <td>2002</td>\n",
       "      <td>3</td>\n",
       "      <td>2</td>\n",
       "    </tr>\n",
       "    <tr>\n",
       "      <th>5</th>\n",
       "      <td>2002</td>\n",
       "      <td>7</td>\n",
       "      <td>1</td>\n",
       "    </tr>\n",
       "    <tr>\n",
       "      <th>6</th>\n",
       "      <td>2002</td>\n",
       "      <td>10</td>\n",
       "      <td>1</td>\n",
       "    </tr>\n",
       "    <tr>\n",
       "      <th>7</th>\n",
       "      <td>2002</td>\n",
       "      <td>11</td>\n",
       "      <td>5</td>\n",
       "    </tr>\n",
       "    <tr>\n",
       "      <th>8</th>\n",
       "      <td>2002</td>\n",
       "      <td>12</td>\n",
       "      <td>2</td>\n",
       "    </tr>\n",
       "    <tr>\n",
       "      <th>9</th>\n",
       "      <td>2003</td>\n",
       "      <td>1</td>\n",
       "      <td>1</td>\n",
       "    </tr>\n",
       "    <tr>\n",
       "      <th>10</th>\n",
       "      <td>2003</td>\n",
       "      <td>3</td>\n",
       "      <td>5</td>\n",
       "    </tr>\n",
       "    <tr>\n",
       "      <th>11</th>\n",
       "      <td>2003</td>\n",
       "      <td>4</td>\n",
       "      <td>3</td>\n",
       "    </tr>\n",
       "    <tr>\n",
       "      <th>12</th>\n",
       "      <td>2003</td>\n",
       "      <td>5</td>\n",
       "      <td>7</td>\n",
       "    </tr>\n",
       "    <tr>\n",
       "      <th>13</th>\n",
       "      <td>2003</td>\n",
       "      <td>6</td>\n",
       "      <td>3</td>\n",
       "    </tr>\n",
       "    <tr>\n",
       "      <th>14</th>\n",
       "      <td>2003</td>\n",
       "      <td>7</td>\n",
       "      <td>5</td>\n",
       "    </tr>\n",
       "    <tr>\n",
       "      <th>15</th>\n",
       "      <td>2003</td>\n",
       "      <td>8</td>\n",
       "      <td>1</td>\n",
       "    </tr>\n",
       "    <tr>\n",
       "      <th>16</th>\n",
       "      <td>2003</td>\n",
       "      <td>9</td>\n",
       "      <td>2</td>\n",
       "    </tr>\n",
       "    <tr>\n",
       "      <th>17</th>\n",
       "      <td>2003</td>\n",
       "      <td>10</td>\n",
       "      <td>2</td>\n",
       "    </tr>\n",
       "    <tr>\n",
       "      <th>18</th>\n",
       "      <td>2003</td>\n",
       "      <td>11</td>\n",
       "      <td>9</td>\n",
       "    </tr>\n",
       "    <tr>\n",
       "      <th>19</th>\n",
       "      <td>2003</td>\n",
       "      <td>12</td>\n",
       "      <td>15</td>\n",
       "    </tr>\n",
       "    <tr>\n",
       "      <th>20</th>\n",
       "      <td>2004</td>\n",
       "      <td>1</td>\n",
       "      <td>18</td>\n",
       "    </tr>\n",
       "    <tr>\n",
       "      <th>21</th>\n",
       "      <td>2004</td>\n",
       "      <td>2</td>\n",
       "      <td>23</td>\n",
       "    </tr>\n",
       "    <tr>\n",
       "      <th>22</th>\n",
       "      <td>2004</td>\n",
       "      <td>3</td>\n",
       "      <td>11</td>\n",
       "    </tr>\n",
       "    <tr>\n",
       "      <th>23</th>\n",
       "      <td>2004</td>\n",
       "      <td>4</td>\n",
       "      <td>14</td>\n",
       "    </tr>\n",
       "    <tr>\n",
       "      <th>24</th>\n",
       "      <td>2004</td>\n",
       "      <td>5</td>\n",
       "      <td>25</td>\n",
       "    </tr>\n",
       "    <tr>\n",
       "      <th>25</th>\n",
       "      <td>2004</td>\n",
       "      <td>6</td>\n",
       "      <td>11</td>\n",
       "    </tr>\n",
       "    <tr>\n",
       "      <th>26</th>\n",
       "      <td>2004</td>\n",
       "      <td>7</td>\n",
       "      <td>30</td>\n",
       "    </tr>\n",
       "    <tr>\n",
       "      <th>27</th>\n",
       "      <td>2004</td>\n",
       "      <td>8</td>\n",
       "      <td>32</td>\n",
       "    </tr>\n",
       "    <tr>\n",
       "      <th>28</th>\n",
       "      <td>2004</td>\n",
       "      <td>9</td>\n",
       "      <td>53</td>\n",
       "    </tr>\n",
       "    <tr>\n",
       "      <th>29</th>\n",
       "      <td>2004</td>\n",
       "      <td>10</td>\n",
       "      <td>40</td>\n",
       "    </tr>\n",
       "    <tr>\n",
       "      <th>...</th>\n",
       "      <td>...</td>\n",
       "      <td>...</td>\n",
       "      <td>...</td>\n",
       "    </tr>\n",
       "    <tr>\n",
       "      <th>117</th>\n",
       "      <td>2012</td>\n",
       "      <td>2</td>\n",
       "      <td>19139</td>\n",
       "    </tr>\n",
       "    <tr>\n",
       "      <th>118</th>\n",
       "      <td>2012</td>\n",
       "      <td>3</td>\n",
       "      <td>19276</td>\n",
       "    </tr>\n",
       "    <tr>\n",
       "      <th>119</th>\n",
       "      <td>2012</td>\n",
       "      <td>4</td>\n",
       "      <td>17581</td>\n",
       "    </tr>\n",
       "    <tr>\n",
       "      <th>120</th>\n",
       "      <td>2012</td>\n",
       "      <td>5</td>\n",
       "      <td>19422</td>\n",
       "    </tr>\n",
       "    <tr>\n",
       "      <th>121</th>\n",
       "      <td>2012</td>\n",
       "      <td>6</td>\n",
       "      <td>19247</td>\n",
       "    </tr>\n",
       "    <tr>\n",
       "      <th>122</th>\n",
       "      <td>2012</td>\n",
       "      <td>7</td>\n",
       "      <td>20900</td>\n",
       "    </tr>\n",
       "    <tr>\n",
       "      <th>123</th>\n",
       "      <td>2012</td>\n",
       "      <td>8</td>\n",
       "      <td>21568</td>\n",
       "    </tr>\n",
       "    <tr>\n",
       "      <th>124</th>\n",
       "      <td>2012</td>\n",
       "      <td>9</td>\n",
       "      <td>24457</td>\n",
       "    </tr>\n",
       "    <tr>\n",
       "      <th>125</th>\n",
       "      <td>2012</td>\n",
       "      <td>10</td>\n",
       "      <td>41127</td>\n",
       "    </tr>\n",
       "    <tr>\n",
       "      <th>126</th>\n",
       "      <td>2012</td>\n",
       "      <td>11</td>\n",
       "      <td>43070</td>\n",
       "    </tr>\n",
       "    <tr>\n",
       "      <th>127</th>\n",
       "      <td>2012</td>\n",
       "      <td>12</td>\n",
       "      <td>96007</td>\n",
       "    </tr>\n",
       "    <tr>\n",
       "      <th>128</th>\n",
       "      <td>2013</td>\n",
       "      <td>1</td>\n",
       "      <td>101846</td>\n",
       "    </tr>\n",
       "    <tr>\n",
       "      <th>129</th>\n",
       "      <td>2013</td>\n",
       "      <td>2</td>\n",
       "      <td>81450</td>\n",
       "    </tr>\n",
       "    <tr>\n",
       "      <th>130</th>\n",
       "      <td>2013</td>\n",
       "      <td>3</td>\n",
       "      <td>81155</td>\n",
       "    </tr>\n",
       "    <tr>\n",
       "      <th>131</th>\n",
       "      <td>2013</td>\n",
       "      <td>4</td>\n",
       "      <td>82740</td>\n",
       "    </tr>\n",
       "    <tr>\n",
       "      <th>132</th>\n",
       "      <td>2013</td>\n",
       "      <td>5</td>\n",
       "      <td>88991</td>\n",
       "    </tr>\n",
       "    <tr>\n",
       "      <th>133</th>\n",
       "      <td>2013</td>\n",
       "      <td>6</td>\n",
       "      <td>80690</td>\n",
       "    </tr>\n",
       "    <tr>\n",
       "      <th>134</th>\n",
       "      <td>2013</td>\n",
       "      <td>7</td>\n",
       "      <td>84620</td>\n",
       "    </tr>\n",
       "    <tr>\n",
       "      <th>135</th>\n",
       "      <td>2013</td>\n",
       "      <td>8</td>\n",
       "      <td>89778</td>\n",
       "    </tr>\n",
       "    <tr>\n",
       "      <th>136</th>\n",
       "      <td>2013</td>\n",
       "      <td>9</td>\n",
       "      <td>85135</td>\n",
       "    </tr>\n",
       "    <tr>\n",
       "      <th>137</th>\n",
       "      <td>2013</td>\n",
       "      <td>10</td>\n",
       "      <td>98715</td>\n",
       "    </tr>\n",
       "    <tr>\n",
       "      <th>138</th>\n",
       "      <td>2013</td>\n",
       "      <td>11</td>\n",
       "      <td>102353</td>\n",
       "    </tr>\n",
       "    <tr>\n",
       "      <th>139</th>\n",
       "      <td>2013</td>\n",
       "      <td>12</td>\n",
       "      <td>156821</td>\n",
       "    </tr>\n",
       "    <tr>\n",
       "      <th>140</th>\n",
       "      <td>2014</td>\n",
       "      <td>1</td>\n",
       "      <td>163758</td>\n",
       "    </tr>\n",
       "    <tr>\n",
       "      <th>141</th>\n",
       "      <td>2014</td>\n",
       "      <td>2</td>\n",
       "      <td>134041</td>\n",
       "    </tr>\n",
       "    <tr>\n",
       "      <th>142</th>\n",
       "      <td>2014</td>\n",
       "      <td>3</td>\n",
       "      <td>164007</td>\n",
       "    </tr>\n",
       "    <tr>\n",
       "      <th>143</th>\n",
       "      <td>2014</td>\n",
       "      <td>4</td>\n",
       "      <td>140450</td>\n",
       "    </tr>\n",
       "    <tr>\n",
       "      <th>144</th>\n",
       "      <td>2014</td>\n",
       "      <td>5</td>\n",
       "      <td>144684</td>\n",
       "    </tr>\n",
       "    <tr>\n",
       "      <th>145</th>\n",
       "      <td>2014</td>\n",
       "      <td>6</td>\n",
       "      <td>143628</td>\n",
       "    </tr>\n",
       "    <tr>\n",
       "      <th>146</th>\n",
       "      <td>2014</td>\n",
       "      <td>7</td>\n",
       "      <td>121562</td>\n",
       "    </tr>\n",
       "  </tbody>\n",
       "</table>\n",
       "<p>147 rows × 3 columns</p>\n",
       "</div>"
      ],
      "text/plain": [
       "     year  month  reviewerId\n",
       "0    2000     11           1\n",
       "1    2000     12           2\n",
       "2    2001      8           1\n",
       "3    2001      9           1\n",
       "4    2002      3           2\n",
       "5    2002      7           1\n",
       "6    2002     10           1\n",
       "7    2002     11           5\n",
       "8    2002     12           2\n",
       "9    2003      1           1\n",
       "10   2003      3           5\n",
       "11   2003      4           3\n",
       "12   2003      5           7\n",
       "13   2003      6           3\n",
       "14   2003      7           5\n",
       "15   2003      8           1\n",
       "16   2003      9           2\n",
       "17   2003     10           2\n",
       "18   2003     11           9\n",
       "19   2003     12          15\n",
       "20   2004      1          18\n",
       "21   2004      2          23\n",
       "22   2004      3          11\n",
       "23   2004      4          14\n",
       "24   2004      5          25\n",
       "25   2004      6          11\n",
       "26   2004      7          30\n",
       "27   2004      8          32\n",
       "28   2004      9          53\n",
       "29   2004     10          40\n",
       "..    ...    ...         ...\n",
       "117  2012      2       19139\n",
       "118  2012      3       19276\n",
       "119  2012      4       17581\n",
       "120  2012      5       19422\n",
       "121  2012      6       19247\n",
       "122  2012      7       20900\n",
       "123  2012      8       21568\n",
       "124  2012      9       24457\n",
       "125  2012     10       41127\n",
       "126  2012     11       43070\n",
       "127  2012     12       96007\n",
       "128  2013      1      101846\n",
       "129  2013      2       81450\n",
       "130  2013      3       81155\n",
       "131  2013      4       82740\n",
       "132  2013      5       88991\n",
       "133  2013      6       80690\n",
       "134  2013      7       84620\n",
       "135  2013      8       89778\n",
       "136  2013      9       85135\n",
       "137  2013     10       98715\n",
       "138  2013     11      102353\n",
       "139  2013     12      156821\n",
       "140  2014      1      163758\n",
       "141  2014      2      134041\n",
       "142  2014      3      164007\n",
       "143  2014      4      140450\n",
       "144  2014      5      144684\n",
       "145  2014      6      143628\n",
       "146  2014      7      121562\n",
       "\n",
       "[147 rows x 3 columns]"
      ]
     },
     "execution_count": 143,
     "metadata": {},
     "output_type": "execute_result"
    }
   ],
   "source": [
    "reviews_by_time.groupby(['year','month']).reviewerId.sum().reset_index()\n",
    "# .to_csv('by_year.csv')\n",
    "## Plotted this by year in excel - it seems like there is a trend in 2013 and 2014 where:\n",
    "## 1. There is a small peak in Feb\n",
    "## 2. Huge peak starting from september"
   ]
  },
  {
   "cell_type": "markdown",
   "metadata": {},
   "source": [
    "### Size of the reviews"
   ]
  },
  {
   "cell_type": "code",
   "execution_count": 145,
   "metadata": {
    "collapsed": false
   },
   "outputs": [],
   "source": [
    "# df_review['reviewText_len']=df_review['reviewText'].str.len()"
   ]
  },
  {
   "cell_type": "code",
   "execution_count": 146,
   "metadata": {
    "collapsed": false
   },
   "outputs": [],
   "source": [
    "# df_review['reviewText_len'].mean()"
   ]
  },
  {
   "cell_type": "code",
   "execution_count": 147,
   "metadata": {
    "collapsed": false
   },
   "outputs": [],
   "source": [
    "# ax = df_review['reviewText_len'].plot(kind = 'hist',bins=range(0,2000,100),\\\n",
    "#                          title = 'Distribution of the length of reviews'\\\n",
    "#                         ,facecolor='#80cbc4')\n",
    "\n",
    "\n",
    "# ax.set_xlabel('Length of the Review')\n",
    "# ax.set_ylabel('# of reviews')\n",
    "# ax.set_axis_bgcolor('#fffbf0')"
   ]
  },
  {
   "cell_type": "code",
   "execution_count": 148,
   "metadata": {
    "collapsed": false
   },
   "outputs": [],
   "source": [
    "# df_review.groupby(['reviewText_len','overall']).reviewerID.count().reset_index().to_csv('review_length.csv')\n",
    "\n",
    "# ## Nothing important"
   ]
  },
  {
   "cell_type": "code",
   "execution_count": 149,
   "metadata": {
    "collapsed": true
   },
   "outputs": [],
   "source": [
    "# df_review.groupby(['reviewText_len','helpful_yes']).reviewerID.count().reset_index().to_csv('review_length_yes.csv')"
   ]
  },
  {
   "cell_type": "markdown",
   "metadata": {},
   "source": [
    "### Analyze products"
   ]
  },
  {
   "cell_type": "code",
   "execution_count": 151,
   "metadata": {
    "collapsed": false
   },
   "outputs": [],
   "source": [
    "# # df_review.groupby('asin').overall.mean().round().reset_index()['overall'].hist()\n",
    "# ax = df_review.groupby('asin').overall.mean().round().reset_index()['overall']\\\n",
    "#                               .plot(kind = 'hist',\\\n",
    "#                                title = '# of products by average product reviews'\\\n",
    "#                                ,facecolor='#80cbc4')\n",
    "    \n",
    "    \n",
    "# ax.set_xlabel('# of products')\n",
    "# ax.set_ylabel('Average Reviews')\n",
    "# ax.set_axis_bgcolor('#fffbf0')\n",
    "# ## Most products have an average rating of 4 - very skewed??"
   ]
  },
  {
   "cell_type": "code",
   "execution_count": 152,
   "metadata": {
    "collapsed": false
   },
   "outputs": [
    {
     "data": {
      "text/plain": [
       "12725"
      ]
     },
     "execution_count": 152,
     "metadata": {},
     "output_type": "execute_result"
    }
   ],
   "source": [
    "df_meta['asin'].nunique()"
   ]
  },
  {
   "cell_type": "code",
   "execution_count": 153,
   "metadata": {
    "collapsed": false
   },
   "outputs": [
    {
     "data": {
      "text/plain": [
       "BRAND                  12609\n",
       "FEATURE_BULLETS        12725\n",
       "NAME                   12716\n",
       "ORIGINAL_PRICE          7807\n",
       "PRODUCT_DESCRIPTION    12725\n",
       "PRODUCT_INFORMATION    12725\n",
       "SALE_PRICE              7807\n",
       "URL                    12725\n",
       "asin                   12725\n",
       "dtype: int64"
      ]
     },
     "execution_count": 153,
     "metadata": {},
     "output_type": "execute_result"
    }
   ],
   "source": [
    "df_meta.count()"
   ]
  },
  {
   "cell_type": "code",
   "execution_count": 181,
   "metadata": {
    "collapsed": true
   },
   "outputs": [],
   "source": [
    "df_meta['ORIGINAL_PRICE'].replace('None', '0', inplace=True)"
   ]
  },
  {
   "cell_type": "code",
   "execution_count": 187,
   "metadata": {
    "collapsed": false
   },
   "outputs": [],
   "source": [
    "df_meta['ORIGINAL_PRICE']=df_meta['ORIGINAL_PRICE'].fillna('$0')\n",
    "df_meta['SALE_PRICE']=df_meta['SALE_PRICE'].fillna('$0')"
   ]
  },
  {
   "cell_type": "code",
   "execution_count": 188,
   "metadata": {
    "collapsed": false
   },
   "outputs": [],
   "source": [
    "# df_meta.ORIGINAL_PRICE.replace(to_replace=dict('None'=0), inplace=True)\n",
    "\n",
    "# df_meta['ORIGINAL_PRICE'].replace('None', 0,inplace=False)"
   ]
  },
  {
   "cell_type": "code",
   "execution_count": 189,
   "metadata": {
    "collapsed": false
   },
   "outputs": [],
   "source": [
    "import re\n",
    "def is_number(s):\n",
    "    try:\n",
    "        complex(s) # for int, long, float and complex\n",
    "    except ValueError:\n",
    "        return False\n",
    "    return True\n",
    "\n",
    "getMoney = lambda text : [ ''.join(x[0]) for x in re.findall(r'(\\$?\\d+([,\\.]\\d+)?k?)', text.replace(',', '').replace('$',''))]\n",
    "\n",
    "def getAvg(x):\n",
    "    s = average([(float(y) if is_number(y) else -1) for y in getMoney(x.SALE_PRICE)])\n",
    "    o = average([(float(y) if is_number(y) else -1) for y in getMoney(x.ORIGINAL_PRICE)])\n",
    "    return average([s, o])"
   ]
  },
  {
   "cell_type": "code",
   "execution_count": 192,
   "metadata": {
    "collapsed": false
   },
   "outputs": [],
   "source": [
    "df_meta['price2']=df_meta.apply(lambda x: getAvg(x), axis='columns')"
   ]
  },
  {
   "cell_type": "code",
   "execution_count": 193,
   "metadata": {
    "collapsed": false
   },
   "outputs": [],
   "source": [
    "# df_meta['ORIGINAL_PRICE']"
   ]
  },
  {
   "cell_type": "code",
   "execution_count": 194,
   "metadata": {
    "collapsed": false
   },
   "outputs": [],
   "source": [
    "# df_meta['price2'] = df_meta[u'SALE_PRICE'].round()\n",
    "\n"
   ]
  },
  {
   "cell_type": "code",
   "execution_count": 209,
   "metadata": {
    "collapsed": false
   },
   "outputs": [
    {
     "data": {
      "image/png": "[encoded data removed]",
      "text/plain": [
       "<matplotlib.figure.Figure at 0x10f088dd0>"
      ]
     },
     "metadata": {},
     "output_type": "display_data"
    }
   ],
   "source": [
    "# df_meta.groupby('price2').asin.count().reset_index()['asin'].hist(bins=range(0,5000,1))\n",
    "\n",
    "# df_meta['price2'].hist(bins=range(0,400,10))\n",
    "\n",
    "\n",
    "ax = df_meta['price2']\\\n",
    "      .plot(kind = 'hist',bins=range(0,400,10),\\\n",
    "       title = 'Price distribution'\\\n",
    "       ,facecolor='#80cbc4')\n",
    "    \n",
    "    \n",
    "ax.set_xlabel('Price $')\n",
    "ax.set_ylabel('# of products')\n",
    "ax.set_facecolor('#fffbf0')\n",
    "\n",
    "\n",
    "plt.show()"
   ]
  },
  {
   "cell_type": "code",
   "execution_count": 207,
   "metadata": {
    "collapsed": false
   },
   "outputs": [
    {
     "data": {
      "image/png": "[encoded data removed]",
      "text/plain": [
       "<matplotlib.figure.Figure at 0x10f0fe050>"
      ]
     },
     "metadata": {},
     "output_type": "display_data"
    }
   ],
   "source": [
    "# df_meta[df_meta['category_flag']== 'Men'][['price2']].hist(bins = range(0,200,10))\n",
    "\n",
    "\n",
    "ax = df_meta[['price2']]\\\n",
    "      .plot(kind = 'hist',bins=range(0,200,10),\\\n",
    "       title = 'Price distribution (Category - Men)'\\\n",
    "       ,facecolor='#80cbc4', legend = False)\n",
    "    \n",
    "    \n",
    "ax.set_xlabel('Price $')\n",
    "ax.set_ylabel('# of products')\n",
    "ax.set_facecolor('#fffbf0')\n",
    "\n",
    "\n",
    "plt.show()"
   ]
  }
 ],
 "metadata": {
  "anaconda-cloud": {},
  "kernelspec": {
   "display_name": "Python 2",
   "language": "python",
   "name": "python2"
  },
  "language_info": {
   "codemirror_mode": {
    "name": "ipython",
    "version": 2
   },
   "file_extension": ".py",
   "mimetype": "text/x-python",
   "name": "python",
   "nbconvert_exporter": "python",
   "pygments_lexer": "ipython2",
   "version": "2.7.9"
  }
 },
 "nbformat": 4,
 "nbformat_minor": 2
}
